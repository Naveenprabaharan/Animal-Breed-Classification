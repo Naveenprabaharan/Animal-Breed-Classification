{
  "nbformat": 4,
  "nbformat_minor": 0,
  "metadata": {
    "colab": {
      "name": "Copy of AnimalClassicifiaction.ipynb",
      "provenance": [],
      "toc_visible": true
    },
    "kernelspec": {
      "name": "python3",
      "display_name": "Python 3"
    },
    "language_info": {
      "name": "python"
    }
  },
  "cells": [
    {
      "cell_type": "code",
      "metadata": {
        "colab": {
          "base_uri": "https://localhost:8080/"
        },
        "id": "IOUq2xO5ueky",
        "outputId": "69291e92-c94b-455e-839d-d60a64e30cad"
      },
      "source": [
        "!pip install bing_image_downloader"
      ],
      "execution_count": null,
      "outputs": [
        {
          "output_type": "stream",
          "name": "stdout",
          "text": [
            "Requirement already satisfied: bing_image_downloader in /usr/local/lib/python3.7/dist-packages (1.1.1)\n"
          ]
        }
      ]
    },
    {
      "cell_type": "code",
      "metadata": {
        "id": "_7ovYQNyvxw9",
        "colab": {
          "base_uri": "https://localhost:8080/"
        },
        "outputId": "d5899eee-4cbb-4e62-c65b-f0238517e084"
      },
      "source": [
        "!mkdir images"
      ],
      "execution_count": null,
      "outputs": [
        {
          "output_type": "stream",
          "name": "stdout",
          "text": [
            "mkdir: cannot create directory ‘images’: File exists\n"
          ]
        }
      ]
    },
    {
      "cell_type": "markdown",
      "metadata": {
        "id": "L8EOd4XWs_5f"
      },
      "source": [
        "# Import LIB"
      ]
    },
    {
      "cell_type": "code",
      "metadata": {
        "id": "SDP15auvt4wm"
      },
      "source": [
        "#from bing_image_downloader import downloader #download images\n",
        "import os #play around Folder\n",
        "import numpy as np #mathematical operation\n",
        "from skimage.io import imread #image read\n",
        "from skimage.transform import resize #to resize the Image\n",
        "from sklearn import svm #train model\n",
        "from sklearn.model_selection import GridSearchCV #GridSearchCV\n",
        "from sklearn.model_selection import train_test_split # model split\n",
        "from sklearn.metrics import accuracy_score, confusion_matrix # accuracy_score, confussion metrix\n",
        "import pickle #save model\n",
        "import matplotlib.pyplot as plt #show output"
      ],
      "execution_count": null,
      "outputs": []
    },
    {
      "cell_type": "code",
      "metadata": {
        "id": "rl2-dmo1ucjw"
      },
      "source": [
        ""
      ],
      "execution_count": null,
      "outputs": []
    },
    {
      "cell_type": "markdown",
      "metadata": {
        "id": "-czBn8ijs_-F"
      },
      "source": [
        "# Gathering Data"
      ]
    },
    {
      "cell_type": "code",
      "metadata": {
        "id": "UcvWZNnEuoI0"
      },
      "source": [
        "#downloader.download('lion image with white background',limit=100, output_dir='/content/images',adult_filter_off=True)"
      ],
      "execution_count": null,
      "outputs": []
    },
    {
      "cell_type": "code",
      "metadata": {
        "id": "Up2Wd5s0wQ3Y"
      },
      "source": [
        "#downloader.download('cat images with white background', limit=100, output_dir='/content/images',adult_filter_off=True)"
      ],
      "execution_count": null,
      "outputs": []
    },
    {
      "cell_type": "code",
      "metadata": {
        "id": "Da5P5tdvxqSG"
      },
      "source": [
        "#downloader.download('dog images with white background',limit=100,output_dir='/content/images',adult_filter_off=True)"
      ],
      "execution_count": null,
      "outputs": []
    },
    {
      "cell_type": "code",
      "metadata": {
        "id": "6XF_LcYEx60i"
      },
      "source": [
        "#downloader.download('fish images with white background',limit=100,output_dir='/content/images',adult_filter_off=True)"
      ],
      "execution_count": null,
      "outputs": []
    },
    {
      "cell_type": "code",
      "metadata": {
        "id": "3eumaYxYxyXT"
      },
      "source": [
        ""
      ],
      "execution_count": null,
      "outputs": []
    },
    {
      "cell_type": "markdown",
      "metadata": {
        "id": "qELk_vs7yO74"
      },
      "source": [
        "# Data Preprocessing"
      ]
    },
    {
      "cell_type": "code",
      "metadata": {
        "id": "cTfp3HG7ySBl"
      },
      "source": [
        "output = []\n",
        "target = []\n",
        "flat_data = []\n",
        "\n",
        "DATADIR = '/content/drive/MyDrive/ML/Renkube/AnimalClassification/Images'\n",
        "CATEGORY = ['lion image with white background','cat images with white background','dog images with white background','fish images with white background']\n",
        "\n",
        "for category in CATEGORY:\n",
        "  label_num = CATEGORY.index(category)\n",
        "  path = os.path.join(DATADIR, category)\n",
        "\n",
        "  for img in os.listdir(path):\n",
        "    imgArray = imread(os.path.join(path, img)) # read image\n",
        "    resized_image = resize(imgArray,(150,150,3)) #resize image\n",
        "    flat_data.append(resized_image.flatten()) #flatten image\n",
        "    target.append(label_num)\n",
        "    output.append(resized_image)\n",
        "\n",
        "#convert to array\n",
        "flat_data = np.array(flat_data)\n",
        "output = np.array(output)\n",
        "target = np.array(target)"
      ],
      "execution_count": null,
      "outputs": []
    },
    {
      "cell_type": "markdown",
      "metadata": {
        "id": "__tgLuXStAGh"
      },
      "source": [
        "# Split Model"
      ]
    },
    {
      "cell_type": "code",
      "metadata": {
        "id": "cY0J1JZC4Xej"
      },
      "source": [
        "# Test train model split\n",
        "X_train , X_test, y_train, y_test = train_test_split(flat_data,target, test_size=0.3, random_state = 0)"
      ],
      "execution_count": null,
      "outputs": []
    },
    {
      "cell_type": "markdown",
      "metadata": {
        "id": "7JWOTJ6StACR"
      },
      "source": [
        "# Finding best Algo"
      ]
    },
    {
      "cell_type": "code",
      "metadata": {
        "id": "RHCaqS0P25my"
      },
      "source": [
        "param_grid = [\n",
        "              {'C':[1,10,100,1000],'kernel':['linear']},\n",
        "              {'C':[1,10,100,1000],'gamma':[0.001,0.0001],'kernel':['rbf']},\n",
        "]\n",
        "\n",
        "svc = svm.SVC(probability=True)\n",
        "clf = GridSearchCV(svc, param_grid)"
      ],
      "execution_count": null,
      "outputs": []
    },
    {
      "cell_type": "markdown",
      "metadata": {
        "id": "lxr1Fa1ntAK-"
      },
      "source": [
        "# Train model"
      ]
    },
    {
      "cell_type": "code",
      "metadata": {
        "colab": {
          "base_uri": "https://localhost:8080/"
        },
        "id": "_B5QkaD75vDe",
        "outputId": "2c1b990a-d834-4ff2-b5ac-6f1de864835e"
      },
      "source": [
        "# train modl\n",
        "clf.fit(X_train,y_train)"
      ],
      "execution_count": null,
      "outputs": [
        {
          "output_type": "execute_result",
          "data": {
            "text/plain": [
              "GridSearchCV(cv=None, error_score=nan,\n",
              "             estimator=SVC(C=1.0, break_ties=False, cache_size=200,\n",
              "                           class_weight=None, coef0=0.0,\n",
              "                           decision_function_shape='ovr', degree=3,\n",
              "                           gamma='scale', kernel='rbf', max_iter=-1,\n",
              "                           probability=True, random_state=None, shrinking=True,\n",
              "                           tol=0.001, verbose=False),\n",
              "             iid='deprecated', n_jobs=None,\n",
              "             param_grid=[{'C': [1, 10, 100, 1000], 'kernel': ['linear']},\n",
              "                         {'C': [1, 10, 100, 1000], 'gamma': [0.001, 0.0001],\n",
              "                          'kernel': ['rbf']}],\n",
              "             pre_dispatch='2*n_jobs', refit=True, return_train_score=False,\n",
              "             scoring=None, verbose=0)"
            ]
          },
          "metadata": {},
          "execution_count": 21
        }
      ]
    },
    {
      "cell_type": "markdown",
      "metadata": {
        "id": "Z1ceMYOhtAP4"
      },
      "source": [
        "# Test model and finding Accurcy & Cunfussion matric"
      ]
    },
    {
      "cell_type": "code",
      "metadata": {
        "colab": {
          "base_uri": "https://localhost:8080/"
        },
        "id": "M3u9IuimGJLL",
        "outputId": "251c8042-3061-4c4c-90e2-a6aba8b5d280"
      },
      "source": [
        "y_pred = clf.predict(X_test)\n",
        "y_pred"
      ],
      "execution_count": null,
      "outputs": [
        {
          "output_type": "execute_result",
          "data": {
            "text/plain": [
              "array([2, 3, 2, 1, 2, 0, 2, 0, 1, 3, 3, 1, 2, 1, 3, 3, 2, 2, 2, 0, 2, 2,\n",
              "       2, 3, 3, 2, 3, 0, 2, 2, 1, 2, 2, 2, 0, 0, 0, 2, 0, 3, 2, 2, 2, 0,\n",
              "       2, 0, 3, 2, 2, 2, 2, 2, 2, 0, 2, 2, 2, 1, 3, 3, 2, 1, 0, 1, 3, 0,\n",
              "       1, 0, 1, 2, 0, 3, 1, 2, 1, 2, 3, 2, 2, 2, 0, 3, 0, 2, 2, 2, 3, 3,\n",
              "       3, 2, 2, 2, 0, 0, 0, 1, 2, 3, 2, 3, 3, 0, 3, 1, 2, 2, 0, 3, 1, 0,\n",
              "       0, 0, 2, 0, 3, 2, 2, 2, 2, 1])"
            ]
          },
          "metadata": {},
          "execution_count": 22
        }
      ]
    },
    {
      "cell_type": "code",
      "metadata": {
        "colab": {
          "base_uri": "https://localhost:8080/"
        },
        "id": "b1PXH6apGUuF",
        "outputId": "b14a5bfd-8790-4f30-b0cc-4c0b204c8eed"
      },
      "source": [
        "accuracy_score(y_pred,y_test)"
      ],
      "execution_count": null,
      "outputs": [
        {
          "output_type": "execute_result",
          "data": {
            "text/plain": [
              "0.5"
            ]
          },
          "metadata": {},
          "execution_count": 23
        }
      ]
    },
    {
      "cell_type": "code",
      "metadata": {
        "colab": {
          "base_uri": "https://localhost:8080/"
        },
        "id": "i2tuImmwGUxm",
        "outputId": "7749142d-3ca9-43b4-901d-0ec394427292"
      },
      "source": [
        "confusion_matrix(y_pred, y_test)"
      ],
      "execution_count": null,
      "outputs": [
        {
          "output_type": "execute_result",
          "data": {
            "text/plain": [
              "array([[18,  4,  2,  2],\n",
              "       [ 2, 10,  1,  3],\n",
              "       [ 6, 13, 20, 14],\n",
              "       [ 7,  3,  3, 12]])"
            ]
          },
          "metadata": {},
          "execution_count": 24
        }
      ]
    },
    {
      "cell_type": "markdown",
      "metadata": {
        "id": "dkrpl8xEtga0"
      },
      "source": [
        "# Save model & Load Model"
      ]
    },
    {
      "cell_type": "code",
      "metadata": {
        "id": "VjNnigxJGxwC"
      },
      "source": [
        "pickle.dump(clf, open('img_model.p','wb'))"
      ],
      "execution_count": null,
      "outputs": []
    },
    {
      "cell_type": "code",
      "metadata": {
        "id": "BxqPwaDYHEtH"
      },
      "source": [
        "#load model\n",
        "model = pickle.load(open('/content/drive/MyDrive/ML/Renkube/AnimalClassification/img_model.p','rb'))"
      ],
      "execution_count": null,
      "outputs": []
    },
    {
      "cell_type": "markdown",
      "metadata": {
        "id": "31VZLC3ztxnp"
      },
      "source": [
        "# Test new cases"
      ]
    },
    {
      "cell_type": "code",
      "metadata": {
        "colab": {
          "base_uri": "https://localhost:8080/",
          "height": 323
        },
        "id": "tb3wjzCCHQ5R",
        "outputId": "f2fee426-411c-41dd-861a-cbcad0d45430"
      },
      "source": [
        "flat_data = []\n",
        "CATEGORY = ['lion image with white background','cat images with white background','dog images with white background','fish images with white background']\n",
        "\n",
        "url = input('Enter Your URl:')\n",
        "URL = imread(url)\n",
        "\n",
        "resized_img = resize(URL, (150,150,3)) #resize\n",
        "flat_data.append(resized_img.flatten()) #flatten\n",
        "\n",
        "flat_data = np.array(flat_data) #array\n",
        "\n",
        "plt.imshow(resized_img)\n",
        "\n",
        "y_out = model.predict(flat_data)\n",
        "y_out = CATEGORY[y_out[0]]\n",
        "\n",
        "print(f'Predicted Output: {y_out}')"
      ],
      "execution_count": null,
      "outputs": [
        {
          "output_type": "stream",
          "name": "stdout",
          "text": [
            "Enter Your URl:https://media.istockphoto.com/photos/golden-retriever-smiling-picture-id598165430?k=6&m=598165430&s=612x612&w=0&h=lojcW2vQRspvyyt8mLmH5wIufbrJFsmH8Vdq2lTs75U=\n",
            "Predicted Output: dog images with white background\n"
          ]
        },
        {
          "output_type": "display_data",
          "data": {
            "image/png": "[encoded data removed]",
            "text/plain": [
              "<Figure size 432x288 with 1 Axes>"
            ]
          },
          "metadata": {
            "needs_background": "light"
          }
        }
      ]
    },
    {
      "cell_type": "code",
      "metadata": {
        "id": "NFpvHPHfIzoj"
      },
      "source": [
        "# lion: https://th.bing.com/th/id/R.b992f80a337fe6217ac00c92acf14b4f?rik=ruzaEB05%2bgqXqQ&riu=http%3a%2f%2fwallpapercave.com%2fwp%2fI1FwiEZ.png&ehk=IqTnozEUa%2b9E0%2fTvVjuIdRKB2q3CftEgidsJ0gXZGeA%3d&risl=&pid=ImgRaw&r=0\n",
        "# dog: https://media.istockphoto.com/photos/golden-retriever-smiling-picture-id598165430?k=6&m=598165430&s=612x612&w=0&h=lojcW2vQRspvyyt8mLmH5wIufbrJFsmH8Vdq2lTs75U=\n",
        "# fish : https://th.bing.com/th/id/OIP.gT0LtYqerxCacrAZxyzoYwHaFf?w=205&h=180&c=7&r=0&o=5&pid=1.7\n",
        "# cat: https://th.bing.com/th/id/OIP.RdEgeUSvl5xNBVEvy8-KEgHaH-?w=179&h=193&c=7&r=0&o=5&pid=1.7"
      ],
      "execution_count": null,
      "outputs": []
    }
  ]
}